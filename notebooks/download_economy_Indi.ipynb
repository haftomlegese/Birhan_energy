{
 "cells": [
  {
   "cell_type": "code",
   "execution_count": 24,
   "id": "9ec60cb0-14af-4f05-a021-b8ca239ff4a2",
   "metadata": {},
   "outputs": [
    {
     "name": "stdout",
     "output_type": "stream",
     "text": [
      "Successfully saved pivoted GDP data to economic_data_gdp_pivot.csv\n",
      "Successfully saved pivoted Inflation data to economic_data_inflation_pivot.csv\n",
      "Successfully saved pivoted Unemployment data to economic_data_unemployment_pivot.csv\n",
      "Successfully saved pivoted Exchange_Rate data to economic_data_exchange_rate_pivot.csv\n"
     ]
    },
    {
     "name": "stderr",
     "output_type": "stream",
     "text": [
      "C:\\Users\\User\\AppData\\Local\\Temp\\ipykernel_6592\\4049391382.py:41: FutureWarning: DataFrame.fillna with 'method' is deprecated and will raise in a future version. Use obj.ffill() or obj.bfill() instead.\n",
      "  economic_data_pivot = economic_data_pivot.fillna(method='ffill').dropna(how='all')\n"
     ]
    }
   ],
   "source": [
    "import wbdata\n",
    "import pandas as pd\n",
    "import datetime\n",
    "\n",
    "# Define the time period\n",
    "start_date = datetime.datetime(2000, 1, 1)\n",
    "end_date = datetime.datetime(2022, 12, 31)\n",
    "\n",
    "# Define the major economies (G20 countries)\n",
    "major_economies = [\n",
    "    \"USA\", \"CAN\", \"MEX\", \"BRA\", \"ARG\",\n",
    "    \"DEU\", \"GBR\", \"FRA\", \"ITA\", \"EUU\",\n",
    "    \"RUS\", \"TUR\", \"SAU\", \"ZAF\", \"CHN\",\n",
    "    \"IND\", \"IDN\", \"JPN\", \"KOR\", \"AUS\"\n",
    "]\n",
    "\n",
    "# Define indicators for GDP, inflation, unemployment, and exchange rates\n",
    "indicators = {\n",
    "    'NY.GDP.MKTP.CD': 'GDP',         # GDP (current US$)\n",
    "    'FP.CPI.TOTL.ZG': 'Inflation',   # Inflation, consumer prices (annual %)\n",
    "    'SL.UEM.TOTL.ZS': 'Unemployment',# Unemployment, total (% of total labor force)\n",
    "    'PA.NUS.FCRF': 'Exchange_Rate'   # Official exchange rate (LCU per US$, period average)\n",
    "}\n",
    "\n",
    "# Download data for the defined indicators\n",
    "try:\n",
    "    # Retrieve economic data\n",
    "    economic_data = wbdata.get_dataframe(indicators, country=major_economies)\n",
    "    \n",
    "    # Reset index to access 'date' column\n",
    "    economic_data.reset_index(inplace=True)\n",
    "    \n",
    "    # Convert 'date' column to datetime format\n",
    "    economic_data['date'] = pd.to_datetime(economic_data['date'])\n",
    "    \n",
    "    # Filter data based on start_date and end_date\n",
    "    economic_data_filtered = economic_data[(economic_data['date'] >= start_date) & (economic_data['date'] <= end_date)]\n",
    "    \n",
    "    # Pivot the data\n",
    "    economic_data_pivot = economic_data_filtered.pivot_table(index='date', columns='country', values=indicators.values())\n",
    "    economic_data_pivot = economic_data_pivot.fillna(method='ffill').dropna(how='all')\n",
    "    \n",
    "    # Save each indicator to a separate CSV file\n",
    "    for indicator in indicators.values():\n",
    "        csv_file_path = f'economic_data_{indicator.lower()}_pivot.csv'\n",
    "        economic_data_pivot[indicator].to_csv(csv_file_path, header=True)\n",
    "        print(f\"Successfully saved pivoted {indicator} data to {csv_file_path}\")\n",
    "\n",
    "except Exception as e:\n",
    "    print(f\"An error occurred while downloading or saving economic data: {e}\")"
   ]
  },
  {
   "cell_type": "code",
   "execution_count": 32,
   "id": "989c3e85-b918-488d-9881-4d1b95031da0",
   "metadata": {},
   "outputs": [
    {
     "name": "stdout",
     "output_type": "stream",
     "text": [
      "Economic Data Sample:\n",
      "                     GDP  Inflation  Unemployment\n",
      "date                                             \n",
      "1991-12-31  2.382355e+13   8.996939      4.996340\n",
      "1992-01-31  2.396059e+13   8.883536      5.009140\n",
      "1992-02-29  2.409763e+13   8.770134      5.021940\n",
      "1992-03-31  2.423467e+13   8.656731      5.034740\n",
      "1992-04-30  2.437171e+13   8.543329      5.047540\n",
      "1992-05-31  2.450874e+13   8.429926      5.060340\n",
      "1992-06-30  2.464578e+13   8.316524      5.073139\n",
      "1992-07-31  2.478282e+13   8.203121      5.085939\n",
      "1992-08-31  2.491986e+13   8.089719      5.098739\n",
      "1992-09-30  2.505690e+13   7.976316      5.111539\n"
     ]
    }
   ],
   "source": [
    "import wbdata\n",
    "import pandas as pd\n",
    "import datetime\n",
    "\n",
    "# Define the time period\n",
    "start_date = datetime.datetime(1987, 1, 1)\n",
    "end_date = datetime.datetime(2022, 12, 31)\n",
    "\n",
    "# Define the world as the country\n",
    "world = [\"WLD\"]\n",
    "\n",
    "# Define indicators for GDP, inflation, and unemployment\n",
    "indicators = {\n",
    "    'NY.GDP.MKTP.CD': 'GDP',              # GDP (current US$)\n",
    "    'FP.CPI.TOTL.ZG': 'Inflation',        # Inflation, consumer prices (annual %)\n",
    "    'SL.UEM.TOTL.ZS': 'Unemployment'      # Unemployment, total (% of total labor force)\n",
    "}\n",
    "\n",
    "# Download data for the defined indicators\n",
    "try:\n",
    "    # Fetch annual data without the convert_date argument\n",
    "    economic_data = wbdata.get_dataframe(indicators, country=world)\n",
    "    economic_data.reset_index(inplace=True)\n",
    "\n",
    "    # Convert 'date' column to datetime format manually\n",
    "    economic_data['date'] = pd.to_datetime(economic_data['date'].astype(str) + '-12-31')\n",
    "    \n",
    "    # Filter data based on start_date and end_date\n",
    "    economic_data_filtered = economic_data[(economic_data['date'] >= start_date) & (economic_data['date'] <= end_date)]\n",
    "    \n",
    "    # Select relevant columns\n",
    "    economic_data_filtered = economic_data_filtered[['date', 'GDP', 'Inflation', 'Unemployment']].dropna()\n",
    "\n",
    "    # Sort data by date in ascending order\n",
    "    economic_data_filtered = economic_data_filtered.sort_values(by='date', ascending=True)\n",
    "\n",
    "    # Set date as index for resampling\n",
    "    economic_data_filtered.set_index('date', inplace=True)\n",
    "\n",
    "    # Resample to monthly frequency and interpolate missing values\n",
    "    monthly_data = economic_data_filtered.resample('M').interpolate(method='linear')\n",
    "\n",
    "    # Save to CSV\n",
    "    monthly_data.to_csv('world_economic_data.csv', index=True)\n",
    "    \n",
    "    # Check data sample\n",
    "    print(\"Economic Data Sample:\")\n",
    "    print(monthly_data.head(10))\n",
    "\n",
    "except Exception as e:\n",
    "    print(f\"An error occurred while downloading economic data: {e}\")"
   ]
  },
  {
   "cell_type": "code",
   "execution_count": null,
   "id": "1e1a0289-6f44-43b9-9164-b258e981010b",
   "metadata": {},
   "outputs": [],
   "source": []
  }
 ],
 "metadata": {
  "kernelspec": {
   "display_name": "Python 3 (ipykernel)",
   "language": "python",
   "name": "python3"
  },
  "language_info": {
   "codemirror_mode": {
    "name": "ipython",
    "version": 3
   },
   "file_extension": ".py",
   "mimetype": "text/x-python",
   "name": "python",
   "nbconvert_exporter": "python",
   "pygments_lexer": "ipython3",
   "version": "3.11.7"
  }
 },
 "nbformat": 4,
 "nbformat_minor": 5
}
